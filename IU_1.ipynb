{
  "cells": [
    {
      "cell_type": "markdown",
      "metadata": {
        "id": "view-in-github",
        "colab_type": "text"
      },
      "source": [
        "<a href=\"https://colab.research.google.com/github/p73rl11zq/CV_base/blob/main/IU_1.ipynb\" target=\"_parent\"><img src=\"https://colab.research.google.com/assets/colab-badge.svg\" alt=\"Open In Colab\"/></a>"
      ]
    },
    {
      "cell_type": "code",
      "execution_count": null,
      "id": "c4917c0f-6aec-498c-b267-cfc8fa6a1903",
      "metadata": {
        "id": "c4917c0f-6aec-498c-b267-cfc8fa6a1903"
      },
      "outputs": [],
      "source": [
        "import numpy as np\n",
        "import cv2\n",
        "import matplotlib\n",
        "from matplotlib import pyplot as plt\n",
        "import math\n",
        "\n",
        "s1 = 92    # coefficient of proportionality\n",
        "matplotlib.rcParams['figure.figsize'] = ((1280/s1, 720/s1))"
      ]
    },
    {
      "cell_type": "markdown",
      "id": "3d5c446e-17ef-4a68-8d37-ed7ec2c4bcf9",
      "metadata": {
        "tags": [],
        "id": "3d5c446e-17ef-4a68-8d37-ed7ec2c4bcf9"
      },
      "source": [
        "# Basic functions"
      ]
    },
    {
      "cell_type": "markdown",
      "id": "e58ff493-a4db-43f9-8b3e-3ed149fbe8bc",
      "metadata": {
        "id": "e58ff493-a4db-43f9-8b3e-3ed149fbe8bc"
      },
      "source": [
        "Hystogram plotters:"
      ]
    },
    {
      "cell_type": "code",
      "execution_count": null,
      "id": "085dd759-6965-4396-a5ea-0ab9c6f9c183",
      "metadata": {
        "id": "085dd759-6965-4396-a5ea-0ab9c6f9c183"
      },
      "outputs": [],
      "source": [
        "def hystogram(image, size, name, flag):\n",
        "\n",
        "    plt.figure(figsize=(size))\n",
        "\n",
        "    plt.hist(image.ravel(), 256, [0,255])\n",
        "\n",
        "    plt.show();\n",
        "    \n",
        "    if flag=='save':\n",
        "        \n",
        "        plt.savefig('histograms/' + name + '.jpg')\n",
        "        \n",
        "    else:\n",
        "        \n",
        "        flag=flag\n",
        "        \n",
        "\n",
        "def hystogram_twins(image1, image2, size, name1, name2, flag):\n",
        "    \n",
        "    fig, axes = plt.subplots(nrows = 2, ncols = 1)\n",
        "\n",
        "    axes[0].hist(image1.ravel(), 256, [0,255])\n",
        "    axes[1].hist(image2.ravel(), 256, [0,255])\n",
        "\n",
        "    plt.figure(figsize=(size))\n",
        "    \n",
        "    axes[0].set(title = name1)\n",
        "    axes[1].set(title = name2)\n",
        "\n",
        "    plt.show();\n",
        "    \n",
        "    if flag=='save':\n",
        "        \n",
        "        plt.savefig('histograms/' + name1 + '_&_' + name2 + '.jpg')\n",
        "        \n",
        "    else:\n",
        "        \n",
        "        flag=flag"
      ]
    },
    {
      "cell_type": "markdown",
      "id": "b3139a19-1664-4af1-82a7-6ed982bfa36b",
      "metadata": {
        "id": "b3139a19-1664-4af1-82a7-6ed982bfa36b"
      },
      "source": [
        "Image displaying function:"
      ]
    },
    {
      "cell_type": "code",
      "execution_count": null,
      "id": "eea3d8a8-7338-4381-87f0-2d23f425bfc5",
      "metadata": {
        "id": "eea3d8a8-7338-4381-87f0-2d23f425bfc5"
      },
      "outputs": [],
      "source": [
        "def view(image, name_of_window):\n",
        "\n",
        "    cv2.namedWindow(name_of_window, cv2.WINDOW_NORMAL)\n",
        "\n",
        "    cv2.imshow(name_of_window, image)\n",
        "   \n",
        "    cv2.waitKey(0)\n",
        "    \n",
        "    cv2.destroyAllWindows()\n",
        "    \n",
        "\n",
        "def view2(image1, name_of_window1, image2, name_of_window2):\n",
        "\n",
        "    cv2.namedWindow(name_of_window1, cv2.WINDOW_NORMAL)\n",
        "    \n",
        "    cv2.namedWindow(name_of_window2, cv2.WINDOW_NORMAL)\n",
        "    \n",
        "    cv2.imshow(name_of_window1, image1)\n",
        "    \n",
        "    cv2.imshow(name_of_window2, image2)\n",
        "   \n",
        "    cv2.waitKey(0)\n",
        "    \n",
        "    cv2.destroyAllWindows()"
      ]
    },
    {
      "cell_type": "markdown",
      "id": "f118c6db-990c-4fd5-9172-bc81ffbbf4cf",
      "metadata": {
        "tags": [],
        "id": "f118c6db-990c-4fd5-9172-bc81ffbbf4cf"
      },
      "source": [
        "# Gamma correction"
      ]
    },
    {
      "cell_type": "code",
      "execution_count": null,
      "id": "570c663e-534f-4b6e-8263-6e647bac5530",
      "metadata": {
        "id": "570c663e-534f-4b6e-8263-6e647bac5530"
      },
      "outputs": [],
      "source": [
        "def gamma_correction(image, gamma, image_name, corrected_name, flag):\n",
        "\n",
        "    g_image = image.copy()\n",
        "\n",
        "    max_pt = np.max(g_image)\n",
        "\n",
        "    g_image = (((g_image / max_pt) ** gamma)*255).astype(\"uint8\")\n",
        "         \n",
        "    if flag=='save':\n",
        "        \n",
        "        cv2.imwrite('Processed images/' + corrected_name + '.jpg', g_image)\n",
        "        \n",
        "    else:\n",
        "        \n",
        "        flag=flag\n",
        "\n",
        "    view2(image, image_name, g_image, corrected_name)\n",
        "    \n",
        "    return g_image;"
      ]
    },
    {
      "cell_type": "markdown",
      "id": "ee96d5c0-0757-4917-b16d-0534bd256164",
      "metadata": {
        "id": "ee96d5c0-0757-4917-b16d-0534bd256164"
      },
      "source": [
        "Processing of morning-image:"
      ]
    },
    {
      "cell_type": "code",
      "execution_count": null,
      "id": "d17f104f-5ea8-4b06-a221-1aeee521f288",
      "metadata": {
        "id": "d17f104f-5ea8-4b06-a221-1aeee521f288"
      },
      "outputs": [],
      "source": [
        "morning = cv2.imread('raw/kit3/morning.jpg')"
      ]
    },
    {
      "cell_type": "code",
      "execution_count": null,
      "id": "5f8b1ac6-58d7-4005-b994-a8280855acf2",
      "metadata": {
        "id": "5f8b1ac6-58d7-4005-b994-a8280855acf2",
        "outputId": "7d4ca332-793a-4ca6-9c9e-0eb5cb04180f"
      },
      "outputs": [
        {
          "data": {
            "text/plain": [
              "array([[[164, 158, 159],\n",
              "        [166, 160, 161],\n",
              "        [167, 161, 162],\n",
              "        ...,\n",
              "        [ 33,  64,  73],\n",
              "        [ 34,  65,  74],\n",
              "        [ 33,  66,  75]],\n",
              "\n",
              "       [[165, 159, 160],\n",
              "        [167, 161, 162],\n",
              "        [171, 163, 164],\n",
              "        ...,\n",
              "        [ 36,  67,  76],\n",
              "        [ 36,  67,  76],\n",
              "        [ 37,  68,  77]],\n",
              "\n",
              "       [[166, 160, 161],\n",
              "        [170, 162, 163],\n",
              "        [172, 164, 165],\n",
              "        ...,\n",
              "        [ 40,  69,  78],\n",
              "        [ 38,  69,  78],\n",
              "        [ 38,  69,  78]],\n",
              "\n",
              "       ...,\n",
              "\n",
              "       [[244, 238, 239],\n",
              "        [245, 239, 240],\n",
              "        [243, 237, 238],\n",
              "        ...,\n",
              "        [ 66,  90, 110],\n",
              "        [ 66,  90, 110],\n",
              "        [ 66,  90, 110]],\n",
              "\n",
              "       [[246, 240, 245],\n",
              "        [247, 240, 245],\n",
              "        [241, 234, 239],\n",
              "        ...,\n",
              "        [ 69,  91, 109],\n",
              "        [ 69,  91, 109],\n",
              "        [ 69,  91, 109]],\n",
              "\n",
              "       [[251, 244, 251],\n",
              "        [246, 238, 245],\n",
              "        [239, 231, 238],\n",
              "        ...,\n",
              "        [ 69,  91, 109],\n",
              "        [ 71,  91, 109],\n",
              "        [ 71,  91, 108]]], dtype=uint8)"
            ]
          },
          "execution_count": 6,
          "metadata": {},
          "output_type": "execute_result"
        }
      ],
      "source": [
        "morning"
      ]
    },
    {
      "cell_type": "code",
      "execution_count": null,
      "id": "a5a5dc9a-54e9-48cc-9200-44bad61bc2d6",
      "metadata": {
        "id": "a5a5dc9a-54e9-48cc-9200-44bad61bc2d6"
      },
      "outputs": [],
      "source": [
        "morning_gamma = gamma_correction(morning, 1.8, 'morning', 'gamma_morning', 's')"
      ]
    },
    {
      "cell_type": "code",
      "execution_count": null,
      "id": "fccc2d41-7688-4408-a6c6-6638af131333",
      "metadata": {
        "id": "fccc2d41-7688-4408-a6c6-6638af131333",
        "outputId": "1599a198-23a9-40ed-aadd-761566accfa2"
      },
      "outputs": [
        {
          "data": {
            "image/png": "[encoded data removed]",
            "text/plain": [
              "<Figure size 1056.88x792.661 with 2 Axes>"
            ]
          },
          "metadata": {
            "needs_background": "light"
          },
          "output_type": "display_data"
        },
        {
          "data": {
            "text/plain": [
              "<Figure size 720x360 with 0 Axes>"
            ]
          },
          "metadata": {},
          "output_type": "display_data"
        },
        {
          "data": {
            "text/plain": [
              "<Figure size 1056.88x792.661 with 0 Axes>"
            ]
          },
          "metadata": {},
          "output_type": "display_data"
        }
      ],
      "source": [
        "hystogram_twins(morning, morning_gamma, [10,5], 'morning', 'morning_gamma', 's')"
      ]
    },
    {
      "cell_type": "markdown",
      "id": "46dde1b7-fbcd-483f-8b4d-0f151283402a",
      "metadata": {
        "id": "46dde1b7-fbcd-483f-8b4d-0f151283402a"
      },
      "source": [
        "Processing of day-image:"
      ]
    },
    {
      "cell_type": "code",
      "execution_count": null,
      "id": "598c8bad-627a-4c9e-a2b7-ee2f3b571198",
      "metadata": {
        "id": "598c8bad-627a-4c9e-a2b7-ee2f3b571198"
      },
      "outputs": [],
      "source": [
        "day = cv2.imread('raw/kit3/day.jpg')"
      ]
    },
    {
      "cell_type": "code",
      "execution_count": null,
      "id": "a6d4c378-b0ce-45a8-a2cd-76ba5028e9af",
      "metadata": {
        "id": "a6d4c378-b0ce-45a8-a2cd-76ba5028e9af"
      },
      "outputs": [],
      "source": [
        "day_gamma = gamma_correction(day, 2.0, 'day', 'gamma_day', 'save')"
      ]
    },
    {
      "cell_type": "code",
      "execution_count": null,
      "id": "71934093-4a4b-4a2d-bd4d-3722ca301916",
      "metadata": {
        "id": "71934093-4a4b-4a2d-bd4d-3722ca301916",
        "outputId": "cd8b9b21-408a-41e1-9190-90950ece93da"
      },
      "outputs": [
        {
          "data": {
            "image/png": "[encoded data removed]",
            "text/plain": [
              "<Figure size 1056.88x792.661 with 2 Axes>"
            ]
          },
          "metadata": {
            "needs_background": "light"
          },
          "output_type": "display_data"
        },
        {
          "data": {
            "text/plain": [
              "<Figure size 720x360 with 0 Axes>"
            ]
          },
          "metadata": {},
          "output_type": "display_data"
        },
        {
          "data": {
            "text/plain": [
              "<Figure size 1056.88x792.661 with 0 Axes>"
            ]
          },
          "metadata": {},
          "output_type": "display_data"
        }
      ],
      "source": [
        "hystogram_twins(day, day_gamma, [10,5], 'day', 'day_gamma', 'save')"
      ]
    },
    {
      "cell_type": "markdown",
      "id": "eb83f535-8988-4be7-a675-4702ac0a991f",
      "metadata": {
        "id": "eb83f535-8988-4be7-a675-4702ac0a991f"
      },
      "source": [
        "Processing of l-even-image:"
      ]
    },
    {
      "cell_type": "code",
      "execution_count": null,
      "id": "9d1dd62c-8a19-41eb-a531-49f355ec8fca",
      "metadata": {
        "id": "9d1dd62c-8a19-41eb-a531-49f355ec8fca"
      },
      "outputs": [],
      "source": [
        "evening_lamp = cv2.imread('raw/kit1/relevant/evening_lamp.jpg')"
      ]
    },
    {
      "cell_type": "code",
      "execution_count": null,
      "id": "19b55f77-94df-4c0d-8bce-ca100e6851bb",
      "metadata": {
        "id": "19b55f77-94df-4c0d-8bce-ca100e6851bb"
      },
      "outputs": [],
      "source": [
        "evening_lamp_gamma = gamma_correction(evening_lamp, 1.5, 'lamp', 'gamma_lamp', 'save')"
      ]
    },
    {
      "cell_type": "code",
      "execution_count": null,
      "id": "ce127b74-6f1f-42d6-93e4-5653e443dd09",
      "metadata": {
        "id": "ce127b74-6f1f-42d6-93e4-5653e443dd09",
        "outputId": "507050ec-faf4-4d41-8860-0538778524ad"
      },
      "outputs": [
        {
          "data": {
            "image/png": "[encoded data removed]",
            "text/plain": [
              "<Figure size 1056.88x792.661 with 2 Axes>"
            ]
          },
          "metadata": {
            "needs_background": "light"
          },
          "output_type": "display_data"
        },
        {
          "data": {
            "text/plain": [
              "<Figure size 720x360 with 0 Axes>"
            ]
          },
          "metadata": {},
          "output_type": "display_data"
        },
        {
          "data": {
            "text/plain": [
              "<Figure size 1056.88x792.661 with 0 Axes>"
            ]
          },
          "metadata": {},
          "output_type": "display_data"
        }
      ],
      "source": [
        "hystogram_twins(evening_lamp, evening_lamp_gamma, [10,5], 'evening_lamp', 'evening_lamp_gamma', 'save')"
      ]
    },
    {
      "cell_type": "markdown",
      "id": "df542968-1a85-4f3e-857f-486830ca7e3b",
      "metadata": {
        "id": "df542968-1a85-4f3e-857f-486830ca7e3b"
      },
      "source": [
        "Processing of d-even-image:"
      ]
    },
    {
      "cell_type": "code",
      "execution_count": null,
      "id": "95982f86-cffb-47a0-84a5-9d5d4fe30eac",
      "metadata": {
        "id": "95982f86-cffb-47a0-84a5-9d5d4fe30eac"
      },
      "outputs": [],
      "source": [
        "evening_dark = cv2.imread('raw/kit1/relevant/evening_dark.jpg')"
      ]
    },
    {
      "cell_type": "code",
      "execution_count": null,
      "id": "ab1bf3e6-9040-4424-bfa7-b19ea6131fc0",
      "metadata": {
        "id": "ab1bf3e6-9040-4424-bfa7-b19ea6131fc0"
      },
      "outputs": [],
      "source": [
        "evening_dark_gamma = gamma_correction(evening_dark, 0.6, 'dark', 'gamma_dark', 'save')"
      ]
    },
    {
      "cell_type": "code",
      "execution_count": null,
      "id": "203bd786-e366-4fff-aa35-fb5d6cd778dc",
      "metadata": {
        "id": "203bd786-e366-4fff-aa35-fb5d6cd778dc",
        "outputId": "69d40b25-4142-4c25-f451-c53638d861d2"
      },
      "outputs": [
        {
          "data": {
            "image/png": "[encoded data removed]",
            "text/plain": [
              "<Figure size 1056.88x792.661 with 2 Axes>"
            ]
          },
          "metadata": {
            "needs_background": "light"
          },
          "output_type": "display_data"
        },
        {
          "data": {
            "text/plain": [
              "<Figure size 720x360 with 0 Axes>"
            ]
          },
          "metadata": {},
          "output_type": "display_data"
        },
        {
          "data": {
            "text/plain": [
              "<Figure size 1056.88x792.661 with 0 Axes>"
            ]
          },
          "metadata": {},
          "output_type": "display_data"
        }
      ],
      "source": [
        "hystogram_twins(evening_dark, evening_dark_gamma, [10,5], 'evening_dark', 'evening_dark_gamma', 'save')"
      ]
    },
    {
      "cell_type": "markdown",
      "id": "60f21ac5-1a95-4bee-9bd9-c50a91f52f12",
      "metadata": {
        "tags": [],
        "id": "60f21ac5-1a95-4bee-9bd9-c50a91f52f12"
      },
      "source": [
        "# Filtration"
      ]
    },
    {
      "cell_type": "markdown",
      "id": "a4b80520-4959-4ed6-a6f7-b8d04abd12cf",
      "metadata": {
        "id": "a4b80520-4959-4ed6-a6f7-b8d04abd12cf"
      },
      "source": [
        "RGB-filter:"
      ]
    },
    {
      "cell_type": "code",
      "execution_count": null,
      "id": "dc4a6f39-376f-42e7-8536-51a4b28ffdee",
      "metadata": {
        "id": "dc4a6f39-376f-42e7-8536-51a4b28ffdee"
      },
      "outputs": [],
      "source": [
        "image = cv2.imread('Processed images/gamma_morning.jpg')"
      ]
    },
    {
      "cell_type": "code",
      "execution_count": null,
      "id": "1e1f9017-3873-40ac-b297-02f7d69f38e6",
      "metadata": {
        "id": "1e1f9017-3873-40ac-b297-02f7d69f38e6"
      },
      "outputs": [],
      "source": [
        "def filtration_rgb(image, kernel_size):\n",
        "    \n",
        "    b, g, r = image[:,:,0], image[:,:,1], image[:,:,2] \n",
        "    \n",
        "    n = kernel_size\n",
        "    \n",
        "    kernel = np.ones((n,n))\n",
        "    \n",
        "    gikai_b = np.zeros((b.shape[0] + n - 1, b.shape[1] + n - 1))\n",
        "    gikai_g = np.zeros((g.shape[0] + n - 1, g.shape[1] + n - 1))\n",
        "    gikai_r = np.zeros((r.shape[0] + n - 1, r.shape[1] + n - 1))\n",
        "    \n",
        "    gikai_b[n//2:gikai_b.shape[0]-n//2, n//2:gikai_b.shape[1]-n//2] = b\n",
        "    gikai_g[n//2:gikai_g.shape[0]-n//2, n//2:gikai_g.shape[1]-n//2] = g \n",
        "    gikai_r[n//2:gikai_r.shape[0]-n//2, n//2:gikai_r.shape[1]-n//2] = r \n",
        "    \n",
        "    temp = [gikai_b, gikai_g, gikai_r]\n",
        "    \n",
        "    target_b = np.zeros(b.shape) #area of filling the result of filtering \n",
        "    target_g = np.zeros(g.shape)\n",
        "    target_r = np.zeros(r.shape)\n",
        "    \n",
        "    targets = [target_b, target_g, target_r]\n",
        "    \n",
        "    for i in range(n//2, gikai_b.shape[0]-n//2):\n",
        "        \n",
        "        for j in range(n//2, gikai_b.shape[1]-n//2):\n",
        "            \n",
        "            for s in range(len(temp)):\n",
        "            \n",
        "                curr = temp[s] \n",
        "                \n",
        "                sliding_area = curr[i-n//2:i+n//2+1, j-n//2:j+n//2+1] \n",
        "            \n",
        "                result = (sliding_area * kernel).ravel()\n",
        "                \n",
        "                result = np.sum(result)//(kernel_size**2)\n",
        "            \n",
        "                #result = np.sort(result)\n",
        "                \n",
        "                tar = targets[s]\n",
        "            \n",
        "                #tar[i-n//2, j-n//2] = result[int((result.shape[0] - 1)/2)]\n",
        "                \n",
        "                tar[i-n//2, j-n//2] = result.astype(\"uint8\")\n",
        "            \n",
        "    target = cv2.merge((target_b, target_g, target_r))\n",
        "            \n",
        "    return target"
      ]
    },
    {
      "cell_type": "code",
      "execution_count": null,
      "id": "a582f3b2-aa97-4977-8553-96a318812fa4",
      "metadata": {
        "id": "a582f3b2-aa97-4977-8553-96a318812fa4"
      },
      "outputs": [],
      "source": [
        "sas = filtration_rgb(image, 7)\n",
        "\n",
        "view2(image, 'orig', sas/255, 'sas')"
      ]
    },
    {
      "cell_type": "code",
      "execution_count": null,
      "id": "3fbe73d1-0d8d-49ee-91e9-092ce39ad34a",
      "metadata": {
        "id": "3fbe73d1-0d8d-49ee-91e9-092ce39ad34a",
        "outputId": "7dec0d1d-4ee8-4de8-9cb5-ac89fce4877c"
      },
      "outputs": [
        {
          "data": {
            "text/plain": [
              "True"
            ]
          },
          "execution_count": 140,
          "metadata": {},
          "output_type": "execute_result"
        }
      ],
      "source": [
        "cv2.imwrite('Processed images/sas.jpg', sas)"
      ]
    },
    {
      "cell_type": "code",
      "execution_count": null,
      "id": "f19d9c94-345f-4fdf-897d-152d89b009c9",
      "metadata": {
        "id": "f19d9c94-345f-4fdf-897d-152d89b009c9"
      },
      "outputs": [],
      "source": [
        "view(sas/255, 'sas')"
      ]
    },
    {
      "cell_type": "code",
      "execution_count": null,
      "id": "ee40c41d-7fc7-4fbb-ac44-29b89e078914",
      "metadata": {
        "id": "ee40c41d-7fc7-4fbb-ac44-29b89e078914",
        "outputId": "a0ab016b-0bfc-4003-ec0c-25c387820da4"
      },
      "outputs": [
        {
          "data": {
            "image/png": "[encoded data removed]",
            "text/plain": [
              "<Figure size 720x504 with 1 Axes>"
            ]
          },
          "metadata": {
            "needs_background": "light"
          },
          "output_type": "display_data"
        }
      ],
      "source": [
        "img_br = noise_detector(sas)"
      ]
    },
    {
      "cell_type": "markdown",
      "id": "432c2d2d-b3be-4af4-8982-06c57a4173b5",
      "metadata": {
        "id": "432c2d2d-b3be-4af4-8982-06c57a4173b5"
      },
      "source": [
        "# Binarization"
      ]
    },
    {
      "cell_type": "code",
      "execution_count": null,
      "id": "5e5bdfdf-ff32-4380-8740-62f5349d1c4b",
      "metadata": {
        "id": "5e5bdfdf-ff32-4380-8740-62f5349d1c4b"
      },
      "outputs": [],
      "source": [
        "sas = cv2.imread('Processed images/sas.jpg')\n",
        "\n",
        "view(sas, 'sas')"
      ]
    },
    {
      "cell_type": "code",
      "execution_count": null,
      "id": "229f8f9b-54f6-4cf4-a58b-d4e5e3f8afb1",
      "metadata": {
        "id": "229f8f9b-54f6-4cf4-a58b-d4e5e3f8afb1"
      },
      "outputs": [],
      "source": [
        "def binarization(img, k_g, k_b, border, flag):\n",
        "    \n",
        "    img_bin = np.copy(img)\n",
        "    \n",
        "    b, g, r = img_bin[:,:,0], img_bin[:,:,1], img_bin[:,:,2] \n",
        "    \n",
        "    for i in range(img_bin.shape[0]):  \n",
        "        \n",
        "        for j in range(img_bin.shape[1]):    \n",
        "            \n",
        "            if g[i][j]==0 or b[i][j]==0:\n",
        "                \n",
        "                img_bin[i][j] = 0\n",
        "            \n",
        "            elif (r[i][j] > border) and (r[i][j] /g[i][j] > k_g) and (r[i][j] /b[i][j] > k_b):\n",
        "                \n",
        "                img_bin[i][j] = 255\n",
        "                \n",
        "            else:\n",
        "                \n",
        "                img_bin[i][j] = 0\n",
        "    \n",
        "    if flag=='save':\n",
        "        \n",
        "        cv2.imwrite('Processed images/binarized_obj/' + '%.2f_%.2f_%d'%(k_g, k_b, border) + '.jpg', img_bin)\n",
        "        \n",
        "    else:\n",
        "        \n",
        "        pass\n",
        "            \n",
        "    return img_bin"
      ]
    },
    {
      "cell_type": "code",
      "execution_count": null,
      "id": "589d3ebf-12be-4eb9-9882-17791102ca3d",
      "metadata": {
        "id": "589d3ebf-12be-4eb9-9882-17791102ca3d"
      },
      "outputs": [],
      "source": [
        "# Successed samples:\n",
        "# 2.3, 1.6, 70 (img = 'raw/kit3/morning.jpg')\n",
        "# 2.1, 1.3, 85 (img = 'raw/kit3/morning.jpg')\n",
        "# 2.1, 1.5, 85 (img = 'raw/kit3/morning.jpg')\n",
        "# 1.9, 1.1, 85 (img = 'raw/kit3/morning.jpg')"
      ]
    },
    {
      "cell_type": "code",
      "execution_count": null,
      "id": "0dcba7f1-6931-44f9-ad73-0554dd75c6c1",
      "metadata": {
        "id": "0dcba7f1-6931-44f9-ad73-0554dd75c6c1"
      },
      "outputs": [],
      "source": [
        "k_g, k_b, border = 2.0, 1.3, 70\n",
        "\n",
        "binarized1 = binarization(sas, k_g, k_b, border, 'unsave')   \n",
        "\n",
        "view(binarized1, 'binarized1')"
      ]
    },
    {
      "cell_type": "markdown",
      "id": "c09de438-deaa-4bcb-9143-47b521d08057",
      "metadata": {
        "id": "c09de438-deaa-4bcb-9143-47b521d08057"
      },
      "source": [
        "# Postprocessing"
      ]
    },
    {
      "cell_type": "markdown",
      "id": "e30d6349-81f3-4190-9994-5b7ccaf1aaac",
      "metadata": {
        "id": "e30d6349-81f3-4190-9994-5b7ccaf1aaac"
      },
      "source": [
        "B&W filter:"
      ]
    },
    {
      "cell_type": "code",
      "execution_count": null,
      "id": "0017be9c-ac32-4d23-b19b-5cf16cefb51d",
      "metadata": {
        "id": "0017be9c-ac32-4d23-b19b-5cf16cefb51d"
      },
      "outputs": [],
      "source": [
        "def filtration_bw(image, kernel_size, flag):\n",
        "    \n",
        "    n = kernel_size\n",
        "    \n",
        "    kernel = np.ones((n,n))    #dtype=np.int8\n",
        "    \n",
        "    gikai = np.zeros((image.shape[0] + n - 1, image.shape[1] + n - 1)) #is used as intermediate image\n",
        "    \n",
        "    gikai[n//2:gikai.shape[0]-n//2, n//2:gikai.shape[1]-n//2] = image\n",
        "    \n",
        "    target = np.zeros(image.shape) #area of filling the result of filtering \n",
        "    \n",
        "    for i in range(n//2, gikai.shape[0]-n//2):\n",
        "        \n",
        "        for j in range(n//2, gikai.shape[1]-n//2):\n",
        "                \n",
        "            sliding_area = gikai[i-n//2:i+n//2+1, j-n//2:j+n//2+1] \n",
        "            \n",
        "            result = (sliding_area * kernel).ravel().astype(\"uint8\")\n",
        "            \n",
        "            if flag=='median':\n",
        "            \n",
        "                result = np.sort(result)\n",
        "                \n",
        "                target[i-n//2, j-n//2] = result[int((result.shape[0] - 1)/2)]/255\n",
        "                \n",
        "            elif flag=='middle':\n",
        "            \n",
        "                result = np.sum(result)//(kernel_size**2)\n",
        "            \n",
        "                target[i-n//2, j-n//2] = result.astype(\"uint8\")\n",
        "            \n",
        "    return target"
      ]
    },
    {
      "cell_type": "code",
      "execution_count": null,
      "id": "c1a8aaf1-7dc3-4eaa-811f-cc6dfc823738",
      "metadata": {
        "id": "c1a8aaf1-7dc3-4eaa-811f-cc6dfc823738"
      },
      "outputs": [],
      "source": [
        "img = cv2.imread('Processed images/binarized_obj/2.00_1.30_70.jpg', 0)"
      ]
    },
    {
      "cell_type": "code",
      "execution_count": null,
      "id": "d7d64e6d-ff3b-4f69-865d-f428cf25b686",
      "metadata": {
        "id": "d7d64e6d-ff3b-4f69-865d-f428cf25b686"
      },
      "outputs": [],
      "source": [
        "fbw = filtration_bw(img, 7, 'median')\n",
        "view2(img, 'binarized1', fbw, 'fbw')"
      ]
    },
    {
      "cell_type": "markdown",
      "id": "f5bb0c9f-74d0-491c-822c-24403da90bac",
      "metadata": {
        "id": "f5bb0c9f-74d0-491c-822c-24403da90bac"
      },
      "source": [
        "Morphological:"
      ]
    },
    {
      "cell_type": "code",
      "execution_count": null,
      "id": "31865960-955c-487a-b22b-a8c85cf97d16",
      "metadata": {
        "id": "31865960-955c-487a-b22b-a8c85cf97d16"
      },
      "outputs": [],
      "source": [
        "def morph_op(img, kernel, flag):\n",
        "    \n",
        "    img_morph = np.zeros((img.shape[0], img.shape[1]))\n",
        "    \n",
        "    m, n = kernel.shape\n",
        "    \n",
        "    gikai = np.zeros((img.shape[0]+m-1, img.shape[1]+n-1))\n",
        "    \n",
        "    gikai[m//2:gikai.shape[0]-m//2, n//2:gikai.shape[1]-n//2] = img\n",
        "    \n",
        "    for i in range(m//2, gikai.shape[0]-m//2):\n",
        "        \n",
        "        for j in range(n//2, gikai.shape[1]-n//2):\n",
        "            \n",
        "            temporary = gikai[i-m//2:i+m//2+1, j-n//2:j+n//2+1]\n",
        "            \n",
        "            if flag == 'dilatation':\n",
        "                \n",
        "                img_morph[i-m//2, j-n//2] = temporary.max()\n",
        "                \n",
        "            elif flag == 'erosion':\n",
        "                \n",
        "                img_morph[i-m//2, j-n//2] = temporary.min() \n",
        "                \n",
        "    return img_morph"
      ]
    },
    {
      "cell_type": "code",
      "execution_count": null,
      "id": "755cb5d4-adee-4f7c-9ae5-db804fa70a1f",
      "metadata": {
        "id": "755cb5d4-adee-4f7c-9ae5-db804fa70a1f"
      },
      "outputs": [],
      "source": [
        "kernel = np.ones((7,7))\n",
        "\n",
        "img_fill = morph_op(fbw, kernel, 'dilatation')\n",
        "\n",
        "img_eros= morph_op(img_fill, kernel, 'erosion')"
      ]
    },
    {
      "cell_type": "code",
      "execution_count": null,
      "id": "5072223f-acd8-4cb4-b523-f0a5c2d62041",
      "metadata": {
        "id": "5072223f-acd8-4cb4-b523-f0a5c2d62041"
      },
      "outputs": [],
      "source": [
        "view2(fbw, '1', img_eros, '2')"
      ]
    },
    {
      "cell_type": "markdown",
      "id": "448283da-b067-437f-a12f-9908b0a2ee2b",
      "metadata": {
        "id": "448283da-b067-437f-a12f-9908b0a2ee2b"
      },
      "source": [
        "Filling internal area:"
      ]
    },
    {
      "cell_type": "code",
      "execution_count": null,
      "id": "00fb7217-25bb-447f-ad6c-01320e143c31",
      "metadata": {
        "id": "00fb7217-25bb-447f-ad6c-01320e143c31"
      },
      "outputs": [],
      "source": [
        "bebra = filtration_bw(img_eros, 3, 'middle')"
      ]
    },
    {
      "cell_type": "code",
      "execution_count": null,
      "id": "410d4d38-b3a7-4d9d-9547-ecbf6056c361",
      "metadata": {
        "id": "410d4d38-b3a7-4d9d-9547-ecbf6056c361"
      },
      "outputs": [],
      "source": [
        "view2(img_eros, '1', bebra, '2')"
      ]
    },
    {
      "cell_type": "code",
      "execution_count": null,
      "id": "0dc4e75f-adfa-45d5-852c-8cd675f0f4ac",
      "metadata": {
        "id": "0dc4e75f-adfa-45d5-852c-8cd675f0f4ac"
      },
      "outputs": [],
      "source": [
        "kernel1 = np.ones((69,69))\n",
        "\n",
        "img_fill2 = morph_op(bebra, kernel1, 'dilatation')\n",
        "\n",
        "img_eros2= morph_op(img_fill2, kernel2, 'erosion')"
      ]
    },
    {
      "cell_type": "code",
      "execution_count": null,
      "id": "f7de9402-8a04-477b-ac12-068728c5d2c0",
      "metadata": {
        "id": "f7de9402-8a04-477b-ac12-068728c5d2c0"
      },
      "outputs": [],
      "source": [
        "view2(img_eros, '1', img_eros2, '2')"
      ]
    },
    {
      "cell_type": "markdown",
      "id": "4bc83b0c-245e-4358-b164-fdd68155509c",
      "metadata": {
        "id": "4bc83b0c-245e-4358-b164-fdd68155509c"
      },
      "source": [
        "# Contouring"
      ]
    },
    {
      "cell_type": "markdown",
      "id": "2d9097a7-5a85-4cca-aa7c-78488b2b0402",
      "metadata": {
        "id": "2d9097a7-5a85-4cca-aa7c-78488b2b0402"
      },
      "source": [
        "Sobelka:"
      ]
    },
    {
      "cell_type": "code",
      "execution_count": null,
      "id": "137c745c-5c0e-4518-97bb-19f64544b832",
      "metadata": {
        "id": "137c745c-5c0e-4518-97bb-19f64544b832"
      },
      "outputs": [],
      "source": [
        "def sobel_contouring(image):\n",
        "\n",
        "    sobel_1 = np.array([[1, 0, -1], [2, 0, -2], [1, 0, -1]])  # / 4\n",
        "\n",
        "    sobel_2 = np.array([[1, 2, 1], [0, 0, 0], [-1, -2, -1]])  # / 4\n",
        "\n",
        "    sob_image = np.zeros(image.shape)\n",
        "\n",
        "    for i in range(1, sob_image.shape[0]-1):\n",
        "    \n",
        "        for j in range(1, sob_image.shape[1]-1):\n",
        "        \n",
        "            sob_image[i, j] = (np.abs(np.sum(image[i-1:i+2, j-1:j+2] * sobel_1)) + np.abs(np.sum(image[i-1:i+2, j-1:j+2] * sobel_2))) / 2\n",
        "            \n",
        "    view2(image, 'binarized', sob_image, 'contered')\n",
        "            \n",
        "    return sob_image;"
      ]
    },
    {
      "cell_type": "code",
      "execution_count": null,
      "id": "a84a2e3a-f161-48ff-9f45-44aba0231d40",
      "metadata": {
        "id": "a84a2e3a-f161-48ff-9f45-44aba0231d40"
      },
      "outputs": [],
      "source": [
        "cont = sobel_contouring(img_eros2)"
      ]
    },
    {
      "cell_type": "code",
      "execution_count": null,
      "id": "24003e56-23d2-494c-86bc-75dcd7eb657d",
      "metadata": {
        "id": "24003e56-23d2-494c-86bc-75dcd7eb657d"
      },
      "outputs": [],
      "source": [
        "view2(binarized1, 'binarized', cont, 'contored')"
      ]
    },
    {
      "cell_type": "code",
      "execution_count": null,
      "id": "6423b2b9-7fae-455e-80da-008cde38164b",
      "metadata": {
        "id": "6423b2b9-7fae-455e-80da-008cde38164b"
      },
      "outputs": [],
      "source": []
    }
  ],
  "metadata": {
    "kernelspec": {
      "display_name": "Python 3 (ipykernel)",
      "language": "python",
      "name": "python3"
    },
    "language_info": {
      "codemirror_mode": {
        "name": "ipython",
        "version": 3
      },
      "file_extension": ".py",
      "mimetype": "text/x-python",
      "name": "python",
      "nbconvert_exporter": "python",
      "pygments_lexer": "ipython3",
      "version": "3.8.12"
    },
    "colab": {
      "provenance": [],
      "include_colab_link": true
    }
  },
  "nbformat": 4,
  "nbformat_minor": 5
}